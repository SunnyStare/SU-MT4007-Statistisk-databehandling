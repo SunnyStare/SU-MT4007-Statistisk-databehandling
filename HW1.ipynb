{
 "cells": [
  {
   "cell_type": "markdown",
   "id": "9bcbed9a-0fcc-4188-a428-f3547cf26b89",
   "metadata": {},
   "source": [
    "Hej, jag heter Yovela. Jag pluggar på SU."
   ]
  }
 ],
 "metadata": {
  "kernelspec": {
   "display_name": "Python 3 (ipykernel)",
   "language": "python",
   "name": "python3"
  },
  "language_info": {
   "codemirror_mode": {
    "name": "ipython",
    "version": 3
   },
   "file_extension": ".py",
   "mimetype": "text/x-python",
   "name": "python",
   "nbconvert_exporter": "python",
   "pygments_lexer": "ipython3",
   "version": "3.12.4"
  }
 },
 "nbformat": 4,
 "nbformat_minor": 5
}
