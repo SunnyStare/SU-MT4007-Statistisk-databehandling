{
 "cells": [
  {
   "cell_type": "markdown",
   "id": "5801dd33-518f-43fc-b0e7-ac509d73f1fa",
   "metadata": {},
   "source": [
    "# Homework 1\n",
    "Hej, jag heter Yovela. Jag är helt ny för sånna programmering kurser."
   ]
  },
  {
   "cell_type": "code",
   "execution_count": null,
   "id": "923a3cd7-f5f7-4a88-a4fd-97a879563cc2",
   "metadata": {},
   "outputs": [],
   "source": []
  }
 ],
 "metadata": {
  "kernelspec": {
   "display_name": "Python 3 (ipykernel)",
   "language": "python",
   "name": "python3"
  },
  "language_info": {
   "codemirror_mode": {
    "name": "ipython",
    "version": 3
   },
   "file_extension": ".py",
   "mimetype": "text/x-python",
   "name": "python",
   "nbconvert_exporter": "python",
   "pygments_lexer": "ipython3",
   "version": "3.12.4"
  }
 },
 "nbformat": 4,
 "nbformat_minor": 5
}
