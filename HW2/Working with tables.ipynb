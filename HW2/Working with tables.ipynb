{
 "cells": [
  {
   "cell_type": "markdown",
   "id": "458b6b51-e1a2-4981-82b4-fd519ee9b3ac",
   "metadata": {},
   "source": [
    "# Apartment Prices"
   ]
  },
  {
   "cell_type": "markdown",
   "id": "6a213955-21bb-4c37-9619-48aee087c0d5",
   "metadata": {},
   "source": [
    "## Read in data"
   ]
  },
  {
   "cell_type": "code",
   "execution_count": null,
   "id": "d29359d3-8371-411c-bcbb-ae68c822d0b8",
   "metadata": {},
   "outputs": [],
   "source": []
  },
  {
   "cell_type": "code",
   "execution_count": null,
   "id": "9fc2e51e-7ad1-45b2-af54-50f5586cbc07",
   "metadata": {},
   "outputs": [],
   "source": [
    "https://raw.githubusercontent.com/su-mt4007/data/refs/heads/main/Booli_sold.csv"
   ]
  }
 ],
 "metadata": {
  "kernelspec": {
   "display_name": "Python 3 (ipykernel)",
   "language": "python",
   "name": "python3"
  },
  "language_info": {
   "codemirror_mode": {
    "name": "ipython",
    "version": 3
   },
   "file_extension": ".py",
   "mimetype": "text/x-python",
   "name": "python",
   "nbconvert_exporter": "python",
   "pygments_lexer": "ipython3",
   "version": "3.12.4"
  }
 },
 "nbformat": 4,
 "nbformat_minor": 5
}
