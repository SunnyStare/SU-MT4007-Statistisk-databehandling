{
 "cells": [
  {
   "cell_type": "markdown",
   "id": "458b6b51-e1a2-4981-82b4-fd519ee9b3ac",
   "metadata": {},
   "source": [
    "# Apartment Prices"
   ]
  },
  {
   "cell_type": "code",
   "execution_count": null,
   "id": "635fddeb-138f-46cf-9e0b-5754127653c2",
   "metadata": {},
   "outputs": [],
   "source": []
  }
 ],
 "metadata": {
  "kernelspec": {
   "display_name": "Python 3 (ipykernel)",
   "language": "python",
   "name": "python3"
  },
  "language_info": {
   "codemirror_mode": {
    "name": "ipython",
    "version": 3
   },
   "file_extension": ".py",
   "mimetype": "text/x-python",
   "name": "python",
   "nbconvert_exporter": "python",
   "pygments_lexer": "ipython3",
   "version": "3.12.4"
  }
 },
 "nbformat": 4,
 "nbformat_minor": 5
}
