{
 "cells": [
  {
   "cell_type": "code",
   "execution_count": null,
   "id": "615425e4-003a-4f84-a2cc-159d17e34c79",
   "metadata": {},
   "outputs": [],
   "source": [
    "import requests\n",
    "from bs4 import BeautifulSoup\n",
    "import pandas as pd\n",
    "\n",
    "# Define parameters\n",
    "years = range(2020, 2025)\n",
    "kommuner = [\n",
    "    \"Botkyrka\", \"Danderyd\", \"Haninge\", \"Huddinge\", \"Järfälla\", \"Lidingö\", \"Nacka\", \"Sollentuna\", \"Solna\", \n",
    "    \"Stockholm\", \"Sundbyberg\", \"Södertälje\", \"Tyresö\", \"Täby\", \"Upplands Väsby\", \"Vallentuna\", \"Vaxholm\", \"Värmdö\"\n",
    "]\n",
    "program_keyword = \"Naturvetenskapsprogrammet\"\n",
    "\n",
    "# Base URL (update this based on the actual structure of the website)\n",
    "base_url = \"https://gymnasieantagningen.storsthlm.se/slutantagning/\"\n",
    "\n",
    "# Initialize DataFrame\n",
    "columns = [\"Year\", \"Kommun\", \"School\", \"Program\", \"Specialization\", \"Antagningsgräns\", \"Median\"]\n",
    "data = []\n",
    "\n",
    "for year in years:\n",
    "    for kommun in kommuner:\n",
    "        # Build the URL for the specific year and kommun\n",
    "        params = {\"year\": year, \"kommun\": kommun}\n",
    "        response = requests.get(base_url, params=params)\n",
    "        \n",
    "        if response.status_code == 200:\n",
    "            soup = BeautifulSoup(response.content, \"html.parser\")\n",
    "\n",
    "            # Parse data for schools and programs\n",
    "            schools = soup.find_all(\"div\", class_=\"school-info\")\n",
    "            for school in schools:\n",
    "                school_name = school.find(\"h3\").get_text(strip=True)\n",
    "\n",
    "                programs = school.find_all(\"div\", class_=\"program-info\")\n",
    "                for program in programs:\n",
    "                    program_name = program.find(\"h4\").get_text(strip=True)\n",
    "\n",
    "                    if program_keyword in program_name:\n",
    "                        specialization = program.find(\"p\", class_=\"specialization\").get_text(strip=True)\n",
    "                        antagningsgrans = program.find(\"span\", class_=\"antagningsgrans\").get_text(strip=True) if program.find(\"span\", class_=\"antagningsgrans\") else \"N/A\"\n",
    "                        median = program.find(\"span\", class_=\"median\").get_text(strip=True) if program.find(\"span\", class_=\"median\") else \"N/A\"\n",
    "\n",
    "                        # Append to data list\n",
    "                        data.append([year, kommun, school_name, program_name, specialization, antagningsgrans, median])\n",
    "        else:\n",
    "            print(f\"Failed to retrieve data for year {year} and kommun {kommun}\")\n",
    "\n",
    "# Create DataFrame\n",
    "df = pd.DataFrame(data, columns=columns)\n",
    "\n",
    "print(df.head())\n"
   ]
  }
 ],
 "metadata": {
  "kernelspec": {
   "display_name": "Python 3 (ipykernel)",
   "language": "python",
   "name": "python3"
  },
  "language_info": {
   "codemirror_mode": {
    "name": "ipython",
    "version": 3
   },
   "file_extension": ".py",
   "mimetype": "text/x-python",
   "name": "python",
   "nbconvert_exporter": "python",
   "pygments_lexer": "ipython3",
   "version": "3.12.4"
  }
 },
 "nbformat": 4,
 "nbformat_minor": 5
}
