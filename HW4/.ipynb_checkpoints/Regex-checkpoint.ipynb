{
 "cells": [
  {
   "cell_type": "code",
   "execution_count": 15,
   "id": "2b1029e2-de89-4538-b226-02f543f3c1ad",
   "metadata": {},
   "outputs": [],
   "source": [
    "import re\n",
    "import pandas as pd"
   ]
  },
  {
   "cell_type": "markdown",
   "id": "af9f8a33-ad67-4574-b3f5-eb055d590982",
   "metadata": {},
   "source": [
    "## Read in data"
   ]
  },
  {
   "cell_type": "code",
   "execution_count": 18,
   "id": "059890a4-1c70-4ff9-bb45-e1bdad997455",
   "metadata": {},
   "outputs": [
    {
     "name": "stdout",
     "output_type": "stream",
     "text": [
      "                                              comment\n",
      "0                 1. \"Great post! #programming #tips\"\n",
      "1           2. \"Enjoyed the article. #coding #python\"\n",
      "2              3. \"Interesting insights. #tech #data\"\n",
      "3          4. \"This is awesome! #programming #coding\"\n",
      "4            5. \"Thanks for sharing. #data #analysis\"\n",
      "..                                                ...\n",
      "95  96. \"Innovations in tech and AI. #tech #innova...\n",
      "96  97. \"Effective coding patterns. #programming #...\n",
      "97  98. \"Data visualization best practices. #data ...\n",
      "98   99. \"Optimizing Python code. #programming #tips\"\n",
      "99  100. \"Coding challenges for skill development....\n",
      "\n",
      "[100 rows x 1 columns]\n"
     ]
    }
   ],
   "source": [
    "# URL of the data \n",
    "url = \"https://raw.githubusercontent.com/su-mt4007/data/refs/heads/main/comments.txt\" \n",
    "# Read the data from the URL into a DataFrame \n",
    "df = pd.read_csv(url, header=None, names=['comment']) \n",
    "# Display the DataFrame \n",
    "print(df)"
   ]
  },
  {
   "cell_type": "markdown",
   "id": "02d79367-ae42-4895-b7b9-82efb1ed673f",
   "metadata": {},
   "source": [
    "## Write a regular expression to extract all hashtags from a given comment. For example, applying the regex to comment 1 should return [\"#programming\", \"#tips\"]."
   ]
  },
  {
   "cell_type": "code",
   "execution_count": 22,
   "id": "26dd7a7e-174c-4f3e-a99b-af93d386c07b",
   "metadata": {
    "scrolled": true
   },
   "outputs": [
    {
     "name": "stdout",
     "output_type": "stream",
     "text": [
      "                                              comment                 hashtags\n",
      "0                 1. \"Great post! #programming #tips\"    [#programming, #tips]\n",
      "1           2. \"Enjoyed the article. #coding #python\"       [#coding, #python]\n",
      "2              3. \"Interesting insights. #tech #data\"           [#tech, #data]\n",
      "3          4. \"This is awesome! #programming #coding\"  [#programming, #coding]\n",
      "4            5. \"Thanks for sharing. #data #analysis\"       [#data, #analysis]\n",
      "..                                                ...                      ...\n",
      "95  96. \"Innovations in tech and AI. #tech #innova...     [#tech, #innovation]\n",
      "96  97. \"Effective coding patterns. #programming #...  [#programming, #coding]\n",
      "97  98. \"Data visualization best practices. #data ...      [#data, #analytics]\n",
      "98   99. \"Optimizing Python code. #programming #tips\"    [#programming, #tips]\n",
      "99  100. \"Coding challenges for skill development....       [#coding, #python]\n",
      "\n",
      "[100 rows x 2 columns]\n"
     ]
    }
   ],
   "source": [
    "# Function to extract hashtags from a comment \n",
    "def extract_hashtags(comment): \n",
    "    return re.findall(r\"#\\w+\", comment) \n",
    "# Apply the function to each comment \n",
    "df['hashtags'] = df['comment'].apply(extract_hashtags) \n",
    "# Display the DataFrame with extracted hashtags \n",
    "print(df)"
   ]
  },
  {
   "cell_type": "markdown",
   "id": "faf5cce3-5c23-4255-9eb3-6a46f73f857d",
   "metadata": {},
   "source": [
    "## Create a regular expression to find comments that mention both \"#programming\" and \"#python\". Apply the regex to comment 2 and check if it matches."
   ]
  },
  {
   "cell_type": "code",
   "execution_count": 30,
   "id": "cdf23018-21ce-4a1d-82a1-60b9307e450b",
   "metadata": {},
   "outputs": [
    {
     "data": {
      "text/html": [
       "<div>\n",
       "<style scoped>\n",
       "    .dataframe tbody tr th:only-of-type {\n",
       "        vertical-align: middle;\n",
       "    }\n",
       "\n",
       "    .dataframe tbody tr th {\n",
       "        vertical-align: top;\n",
       "    }\n",
       "\n",
       "    .dataframe thead th {\n",
       "        text-align: right;\n",
       "    }\n",
       "</style>\n",
       "<table border=\"1\" class=\"dataframe\">\n",
       "  <thead>\n",
       "    <tr style=\"text-align: right;\">\n",
       "      <th></th>\n",
       "      <th>comment</th>\n",
       "      <th>hashtags</th>\n",
       "      <th>contains_both</th>\n",
       "    </tr>\n",
       "  </thead>\n",
       "  <tbody>\n",
       "    <tr>\n",
       "      <th>5</th>\n",
       "      <td>6. \"I learned a lot. #programming #python #tips\"</td>\n",
       "      <td>[#programming, #python, #tips]</td>\n",
       "      <td>True</td>\n",
       "    </tr>\n",
       "    <tr>\n",
       "      <th>14</th>\n",
       "      <td>15. \"Well explained. #programming #python #tips\"</td>\n",
       "      <td>[#programming, #python, #tips]</td>\n",
       "      <td>True</td>\n",
       "    </tr>\n",
       "    <tr>\n",
       "      <th>20</th>\n",
       "      <td>21. \"Love the content! #programming #python #t...</td>\n",
       "      <td>[#programming, #python, #tips]</td>\n",
       "      <td>True</td>\n",
       "    </tr>\n",
       "    <tr>\n",
       "      <th>29</th>\n",
       "      <td>30. \"Inspired by the tips. #programming #pytho...</td>\n",
       "      <td>[#programming, #python, #tips]</td>\n",
       "      <td>True</td>\n",
       "    </tr>\n",
       "  </tbody>\n",
       "</table>\n",
       "</div>"
      ],
      "text/plain": [
       "                                              comment  \\\n",
       "5    6. \"I learned a lot. #programming #python #tips\"   \n",
       "14   15. \"Well explained. #programming #python #tips\"   \n",
       "20  21. \"Love the content! #programming #python #t...   \n",
       "29  30. \"Inspired by the tips. #programming #pytho...   \n",
       "\n",
       "                          hashtags  contains_both  \n",
       "5   [#programming, #python, #tips]           True  \n",
       "14  [#programming, #python, #tips]           True  \n",
       "20  [#programming, #python, #tips]           True  \n",
       "29  [#programming, #python, #tips]           True  "
      ]
     },
     "execution_count": 30,
     "metadata": {},
     "output_type": "execute_result"
    }
   ],
   "source": [
    "# Function to check if a comment contains both #programming and #python \n",
    "def contains_both_hashtags(comment): \n",
    "    pattern = r\"(?=.*#programming)(?=.*#python)\" \n",
    "    return bool(re.search(pattern, comment)) \n",
    "# Apply the function to each comment and filter \n",
    "df['contains_both'] = df['comment'].apply(contains_both_hashtags) \n",
    "#df['contains_both']\n",
    "df_filtered = df[df['contains_both']] \n",
    "# Display the filtered DataFrame \n",
    "df_filtered"
   ]
  },
  {
   "cell_type": "markdown",
   "id": "86a064eb-8f8e-4130-ab7e-28e9ba537ddf",
   "metadata": {},
   "source": [
    "## Using your regular expression, extract all unique hashtags from the entire text file. "
   ]
  },
  {
   "cell_type": "code",
   "execution_count": 32,
   "id": "375415c5-e211-4a86-9d70-91808686b2e3",
   "metadata": {},
   "outputs": [
    {
     "data": {
      "text/plain": [
       "array(['#programming', '#tips', '#coding', '#python', '#tech', '#data',\n",
       "       '#analysis', '#innovation', '#analytics', '#insights', '#research'],\n",
       "      dtype=object)"
      ]
     },
     "execution_count": 32,
     "metadata": {},
     "output_type": "execute_result"
    }
   ],
   "source": [
    "# Function to extract hashtags from a comment \n",
    "def extract_hashtags(comment): \n",
    "    return re.findall(r\"#\\w+\", comment) \n",
    "# Apply the function to each comment to get a list of all hashtags \n",
    "all_hashtags = df['comment'].apply(extract_hashtags).explode().dropna().unique() \n",
    "# Display the unique hashtags \n",
    "all_hashtags"
   ]
  }
 ],
 "metadata": {
  "kernelspec": {
   "display_name": "Python 3 (ipykernel)",
   "language": "python",
   "name": "python3"
  },
  "language_info": {
   "codemirror_mode": {
    "name": "ipython",
    "version": 3
   },
   "file_extension": ".py",
   "mimetype": "text/x-python",
   "name": "python",
   "nbconvert_exporter": "python",
   "pygments_lexer": "ipython3",
   "version": "3.12.4"
  }
 },
 "nbformat": 4,
 "nbformat_minor": 5
}
